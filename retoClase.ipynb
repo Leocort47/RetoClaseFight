{
  "nbformat": 4,
  "nbformat_minor": 0,
  "metadata": {
    "colab": {
      "provenance": []
    },
    "kernelspec": {
      "name": "python3",
      "display_name": "Python 3"
    },
    "language_info": {
      "name": "python"
    }
  },
  "cells": [
    {
      "cell_type": "code",
      "source": [
        "#Ejercicio 1\n",
        "print('Escribe un numero entero: ')\n",
        "_nNumero1=int(input())\n",
        "print('Escriba un segundo numero:')\n",
        "_nNumero2=int(input())\n",
        "_division=(_nNumero1/_nNumero2)\n",
        "_modulo=(_nNumero1%_nNumero2)\n",
        "Result=(f'La division es exacta. El resultado es : cociente={int(_division)}') if _modulo==0  else (f'La division no es exacta. El resultado es : cociente={_division} y el resto= {_modulo}')\n",
        "print(Result)"
      ],
      "metadata": {
        "id": "jmcCRIBSVwKn"
      },
      "execution_count": null,
      "outputs": []
    },
    {
      "cell_type": "code",
      "source": [
        "#Ejercicio 2\n",
        "print(\"Este programa solicita 2 números y verificará si uno es múltiplo de otro\")\n",
        "\n",
        "_n1=int(input(\"Ingrese el primer número: \"))\n",
        "_n2=int(input(\"Ingrese el segundo número: \"))\n",
        "_rta=(_n1%_n2)\n",
        "_RTA=\"Si es múltiplo\" if _rta==0 else \"No es múltiplo\"\n",
        "print(_RTA)"
      ],
      "metadata": {
        "id": "4PbcQiQZV2kH"
      },
      "execution_count": null,
      "outputs": []
    },
    {
      "cell_type": "code",
      "source": [
        "#3.\tEscriba un programa que ordene, de menor a mayor, las edades de tres hermanos. ¿Qué pasaría si son gemelos? ¿Qué pasaría si son trillizos?\n",
        "\n",
        "h1 = int(input(\"Digita la edad del primer hermano: \"))\n",
        "h2 = int(input(\"Digita la edad del segundo hermano: \"))\n",
        "h3 = int(input(\"Digita la edad del tercer hermano: \"))\n",
        "\n",
        "orden = \"el primer hermano es el mayor\"  if h1>h2 and h1>h3 else  \"el segundo hermano es el mayor\", \"el tercer hermano es el mayor\" if h3>h1 and h3>h2 else  \"El primer y segundo hermano son gemelos\" if h1==h2 else \"El segundo y tercer hermano son gemelos\" if h2==h3 else \"El primero y tercer hemano son gemelos \" if h1==h3 else \"son trillizos\" if h1==h2==h3 else \"no son trillizos\"\n",
        "print(orden)\n"
      ],
      "metadata": {
        "colab": {
          "base_uri": "https://localhost:8080/"
        },
        "id": "3DCEXfg2NGtw",
        "outputId": "a80b2ac4-c1a7-41a9-e9f1-29aa924d79ec"
      },
      "execution_count": 2,
      "outputs": [
        {
          "output_type": "stream",
          "name": "stdout",
          "text": [
            "Digita la edad del primer hermano: 15\n",
            "Digita la edad del segundo hermano: 20\n",
            "Digita la edad del tercer hermano: 12\n",
            "('el segundo hermano es el mayor', 'no son trillizos')\n"
          ]
        }
      ]
    },
    {
      "cell_type": "code",
      "source": [
        "#Ejercicio 6\n",
        "_nt1=int(input(\"ingrese su primera nota \"))\n",
        "_nt2=int(input(\"ingrese su segunda nota \"))\n",
        "_nt3=int(input(\"ingrese su tercera nota \"))\n",
        "_nt4=int(input(\"ingrese su cuarta nota \"))\n",
        "snt=_nt1+_nt2+_nt3+_nt4\n",
        "_ntf=_snt/4 \n",
        "\n",
        "_nf=\"Queda eximido del ultimo examen\" if _ntf>4.5 else \"debe presentar el examen\" if _ntf>3.5 else \"debe presentar el examen y entregar un trabajo\" if _ntf>3.0 else\"debe presentar habilitación\" if _ntf>2.0 else\"perdio la materia irremediablemente\"\n",
        "\n",
        "print(_nf, \"su nota final es\",_ntf)"
      ],
      "metadata": {
        "id": "lA-6SzbmV_Tf"
      },
      "execution_count": null,
      "outputs": []
    },
    {
      "cell_type": "code",
      "source": [
        "#Ejercicio 8\n",
        "_numero = int(input(\"Ingresa un numero\"))\n",
        "print(\"El numero es bisiesto\") if (_numero%4==0 and _numero%100!=0) else print(\"El numero no es bisiesto\")"
      ],
      "metadata": {
        "id": "TDp1pA0sWLm3"
      },
      "execution_count": null,
      "outputs": []
    },
    {
      "cell_type": "code",
      "source": [
        "#9.\tEscriba un programa que solicite los coeficientes de la ecuación de la recta ax+b=0 y escriba la solución.\n",
        "\n",
        "print(\"Vamos a hallar la ecucuación de la recta\")\n",
        "print(\"(ax+b=0) \")\n",
        "\n",
        "#Pedimos los valores de x1 y y1\n",
        "x1= int(input(\"Digita el valor de X1 en a: \"))\n",
        "y1= int(input(\"Digita el valor de y1 en b: \"))\n",
        "\n",
        "x2= int(input(\"Digita el valor de X2 en a: \"))\n",
        "y2= int(input(\"Digita el valor de y2 en b: \"))\n",
        "\n",
        "#Calculamos la pendiente m= y2-y1/x2-x1\n",
        "#Calculamos la ecuacion (y-y1) = m(x-x1)\n",
        "m = (y2-y1)/(x2-x1)\n",
        "y = (m*(-x1))+y1\n",
        "calculo= \"No se puede calcular la ecuacion de la recta\" if m==0 else print(f\"Y = \"+ str(m) + \"X\" + \"+\" + str(y))\n",
        "\n",
        "\n",
        "\n",
        "\n",
        "\n",
        "\n",
        "\n"
      ],
      "metadata": {
        "colab": {
          "base_uri": "https://localhost:8080/"
        },
        "id": "2Fw4QvEdTH2n",
        "outputId": "61367e4e-b20a-43f8-c916-f5e2c182168c"
      },
      "execution_count": 5,
      "outputs": [
        {
          "output_type": "stream",
          "name": "stdout",
          "text": [
            "Vamos a hallar la ecucuación de la recta\n",
            "(ax+b=0) \n",
            "Digita el valor de X1 en a: 5\n",
            "Digita el valor de y1 en b: 8\n",
            "Digita el valor de X2 en a: 7\n",
            "Digita el valor de y2 en b: 6\n",
            "Y = -1.0X+13.0\n"
          ]
        }
      ]
    },
    {
      "cell_type": "code",
      "source": [
        "#Ejercicio 15\n",
        "_texto = int(input(\"\")) \n",
        "_Result= abs(_texto) if _texto<0 else (f\"{_texto}\")\n",
        "print(_Result)"
      ],
      "metadata": {
        "id": "nrK3G-KnWYnO"
      },
      "execution_count": null,
      "outputs": []
    },
    {
      "cell_type": "code",
      "source": [
        "#Ejercicio 16\n",
        "print(\"Ingresa 2 usuarios\") \n",
        "_user1=input(\" usuario 1\") \n",
        "_user2=input(\" usuario 2\")\n",
        "if _user1[0:1]==_user2[0:1]:print(\"Coincidencia\")  \n",
        "else:print(\"No hay coincidencia\")"
      ],
      "metadata": {
        "id": "VpC8MsJVWUof"
      },
      "execution_count": null,
      "outputs": []
    },
    {
      "cell_type": "code",
      "source": [
        "#Ejercicio 19\n",
        "\n",
        "print(\"Este prgrama verificará si una palabra es palíndromo o no\")\n",
        "_p=str(input(\"Ingrese una palabra: \"))\n",
        "_p=_p.upper()\n",
        "\n",
        "_rta=\"Es un palíndromo\" if (_p) == (_p)[::-1] else \"No es un palíndromo\"\n",
        "print(_rta)"
      ],
      "metadata": {
        "id": "oKjBwOltWboe"
      },
      "execution_count": null,
      "outputs": []
    },
    {
      "cell_type": "code",
      "source": [
        "#Ejercicio 20\n",
        "\n",
        "print(\"Este prgrama verificará si un número es palíndromo o no\")\n",
        "_p=int(input(\"Ingrese el número: \"))\n",
        "\n",
        "_rta=\"Es un palíndromo\" if  str(_p) == str(_p)[::-1] else \"No es un palíndromo\"\n",
        "print(_rta)"
      ],
      "metadata": {
        "id": "IG7pxlRxWgKm"
      },
      "execution_count": null,
      "outputs": []
    }
  ]
}